{
 "cells": [
  {
   "cell_type": "code",
   "id": "726aaa38f9e3efff",
   "metadata": {
    "ExecuteTime": {
     "end_time": "2025-05-23T03:59:37.131272Z",
     "start_time": "2025-05-23T03:59:37.117466Z"
    }
   },
   "source": [
    "import cv2\n",
    "import numpy as np  # 修正：numpy np\n",
    "import ipywidgets as widgets\n",
    "from IPython.display import display, clear_output\n",
    "import threading\n",
    "import time\n",
    "\n",
    "from scripts.regsetup import description\n",
    "from lib.imgproc import to_jpeg_bytes, process_frame, process_frame_simply, process_frame_special\n",
    "#from lib.move import move"
   ],
   "outputs": [],
   "execution_count": 5
  },
  {
   "cell_type": "code",
   "id": "8e69dc519e38e3be",
   "metadata": {
    "ExecuteTime": {
     "end_time": "2025-05-23T03:59:39.008999Z",
     "start_time": "2025-05-23T03:59:38.995989Z"
    }
   },
   "source": [
    "color_range = [\n",
    "    [0, 80 ,80],\n",
    "    [15, 255, 255],\n",
    "    [165, 80, 80],\n",
    "    [180, 255, 255]\n",
    "]\n",
    "lowest = 30"
   ],
   "outputs": [],
   "execution_count": 6
  },
  {
   "cell_type": "markdown",
   "id": "75e7d57c943150c9",
   "metadata": {},
   "source": [
    "### 方案一"
   ]
  },
  {
   "cell_type": "code",
   "id": "4ce770cdbf6b90fd",
   "metadata": {
    "ExecuteTime": {
     "end_time": "2025-05-23T03:59:07.144455Z",
     "start_time": "2025-05-23T03:59:06.731147Z"
    }
   },
   "source": [
    "# 持续检测\n",
    "cap = cv2.VideoCapture(r'video\\red-green.mp4')\n",
    "while True:\n",
    "    ret, frame = cap.read()\n",
    "    result = process_frame_simply(frame, color_range, lowest)\n",
    "    if not result:\n",
    "        # move(0, 100, 0)\n",
    "        print('小车启动')\n",
    "        cap.release()\n",
    "        break"
   ],
   "outputs": [
    {
     "ename": "error",
     "evalue": "OpenCV(4.11.0) D:\\a\\opencv-python\\opencv-python\\opencv\\modules\\imgproc\\src\\color.cpp:199: error: (-215:Assertion failed) !_src.empty() in function 'cv::cvtColor'\n",
     "output_type": "error",
     "traceback": [
      "\u001B[1;31m---------------------------------------------------------------------------\u001B[0m",
      "\u001B[1;31merror\u001B[0m                                     Traceback (most recent call last)",
      "Cell \u001B[1;32mIn[4], line 5\u001B[0m\n\u001B[0;32m      3\u001B[0m \u001B[38;5;28;01mwhile\u001B[39;00m \u001B[38;5;28;01mTrue\u001B[39;00m:\n\u001B[0;32m      4\u001B[0m     ret, frame \u001B[38;5;241m=\u001B[39m cap\u001B[38;5;241m.\u001B[39mread()\n\u001B[1;32m----> 5\u001B[0m     result \u001B[38;5;241m=\u001B[39m \u001B[43mprocess_frame_simply\u001B[49m\u001B[43m(\u001B[49m\u001B[43mframe\u001B[49m\u001B[43m,\u001B[49m\u001B[43m \u001B[49m\u001B[43mcolor_range\u001B[49m\u001B[43m,\u001B[49m\u001B[43m \u001B[49m\u001B[43mlowest\u001B[49m\u001B[43m)\u001B[49m\n\u001B[0;32m      6\u001B[0m     \u001B[38;5;28;01mif\u001B[39;00m \u001B[38;5;129;01mnot\u001B[39;00m result:\n\u001B[0;32m      7\u001B[0m         \u001B[38;5;66;03m# move(0, 100, 0)\u001B[39;00m\n\u001B[0;32m      8\u001B[0m         \u001B[38;5;28mprint\u001B[39m(\u001B[38;5;124m'\u001B[39m\u001B[38;5;124m小车启动\u001B[39m\u001B[38;5;124m'\u001B[39m)\n",
      "File \u001B[1;32mD:\\pyproj\\Car\\TrafficLight\\lib\\imgproc.py:70\u001B[0m, in \u001B[0;36mprocess_frame_simply\u001B[1;34m(frame, color_range, lowest, highest)\u001B[0m\n\u001B[0;32m     68\u001B[0m color2_high \u001B[38;5;241m=\u001B[39m np\u001B[38;5;241m.\u001B[39marray(color_range[\u001B[38;5;241m3\u001B[39m])\n\u001B[0;32m     69\u001B[0m \u001B[38;5;66;03m# 图像处理，生成掩膜\u001B[39;00m\n\u001B[1;32m---> 70\u001B[0m hsv \u001B[38;5;241m=\u001B[39m \u001B[43mcv2\u001B[49m\u001B[38;5;241;43m.\u001B[39;49m\u001B[43mcvtColor\u001B[49m\u001B[43m(\u001B[49m\u001B[43mframe\u001B[49m\u001B[43m,\u001B[49m\u001B[43m \u001B[49m\u001B[43mcv2\u001B[49m\u001B[38;5;241;43m.\u001B[39;49m\u001B[43mCOLOR_BGR2HSV\u001B[49m\u001B[43m)\u001B[49m\n\u001B[0;32m     71\u001B[0m mask1 \u001B[38;5;241m=\u001B[39m cv2\u001B[38;5;241m.\u001B[39minRange(hsv, color1_low, color1_high)\n\u001B[0;32m     72\u001B[0m mask2 \u001B[38;5;241m=\u001B[39m cv2\u001B[38;5;241m.\u001B[39minRange(hsv, color2_low, color2_high)\n",
      "\u001B[1;31merror\u001B[0m: OpenCV(4.11.0) D:\\a\\opencv-python\\opencv-python\\opencv\\modules\\imgproc\\src\\color.cpp:199: error: (-215:Assertion failed) !_src.empty() in function 'cv::cvtColor'\n"
     ]
    }
   ],
   "execution_count": 4
  },
  {
   "cell_type": "markdown",
   "id": "abc9017c835cc90b",
   "metadata": {},
   "source": [
    "### 方案二"
   ]
  },
  {
   "cell_type": "code",
   "id": "71e989aa481f62b7",
   "metadata": {},
   "source": [
    "# 聚焦检测\n",
    "cap = cv2.VideoCapture(r'video\\red-green.mp4')\n",
    "read_or_not = False\n",
    "while True:\n",
    "    ret, frame = cap.read()\n",
    "    hsv = cv2.cvtColor(frame, cv2.COLOR_BGR2HSV)\n",
    "    if not read_or_not:\n",
    "        result = process_frame_special(hsv, color_range, lowest)\n",
    "        read_or_not = True\n",
    "        print(result)\n",
    "    if hsv[result[1], result[0],2] < 70:\n",
    "        # move(0, 100, 0)\n",
    "        print('小车启动')\n",
    "        cap.release()\n",
    "        break"
   ],
   "outputs": [],
   "execution_count": null
  },
  {
   "cell_type": "code",
   "id": "c3200513351d70d3",
   "metadata": {
    "jupyter": {
     "is_executing": true
    }
   },
   "source": "",
   "outputs": [],
   "execution_count": null
  },
  {
   "cell_type": "code",
   "id": "bf4cca96423973d4",
   "metadata": {},
   "source": [],
   "outputs": [],
   "execution_count": null
  }
 ],
 "metadata": {
  "kernelspec": {
   "display_name": "Python 3 (ipykernel)",
   "language": "python",
   "name": "python3"
  },
  "language_info": {
   "codemirror_mode": {
    "name": "ipython",
    "version": 3
   },
   "file_extension": ".py",
   "mimetype": "text/x-python",
   "name": "python",
   "nbconvert_exporter": "python",
   "pygments_lexer": "ipython3",
   "version": "3.12.9"
  }
 },
 "nbformat": 4,
 "nbformat_minor": 5
}
