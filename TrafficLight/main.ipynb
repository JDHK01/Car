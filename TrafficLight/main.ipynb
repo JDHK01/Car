{
 "cells": [
  {
   "cell_type": "code",
   "execution_count": 1,
   "id": "726aaa38f9e3efff",
   "metadata": {
    "ExecuteTime": {
     "end_time": "2025-05-07T05:37:02.041388Z",
     "start_time": "2025-05-07T05:37:02.029907Z"
    }
   },
   "outputs": [],
   "source": [
    "import cv2\n",
    "import numpy as np  # 修正：numpy np\n",
    "import ipywidgets as widgets\n",
    "from IPython.display import display, clear_output\n",
    "import threading\n",
    "import time\n",
    "\n",
    "from scripts.regsetup import description\n",
    "from lib.imgproc import to_jpeg_bytes, process_frame, process_frame_simply, process_frame_special\n",
    "#from lib.move import move"
   ]
  },
  {
   "cell_type": "code",
   "execution_count": 2,
   "id": "8e69dc519e38e3be",
   "metadata": {
    "ExecuteTime": {
     "end_time": "2025-05-07T05:37:02.756286Z",
     "start_time": "2025-05-07T05:37:02.735977Z"
    }
   },
   "outputs": [],
   "source": [
    "color_range = [\n",
    "    [0, 80 ,80],\n",
    "    [15, 255, 255],\n",
    "    [165, 80, 80],\n",
    "    [180, 255, 255]\n",
    "]\n",
    "lowest = 30"
   ]
  },
  {
   "cell_type": "markdown",
   "id": "75e7d57c943150c9",
   "metadata": {},
   "source": [
    "### 方案一"
   ]
  },
  {
   "cell_type": "code",
   "execution_count": 3,
   "id": "4ce770cdbf6b90fd",
   "metadata": {
    "ExecuteTime": {
     "end_time": "2025-05-07T05:25:47.117901Z",
     "start_time": "2025-05-07T05:25:46.887294Z"
    }
   },
   "outputs": [
    {
     "name": "stdout",
     "output_type": "stream",
     "text": [
      "小车启动\n"
     ]
    }
   ],
   "source": [
    "# 持续检测\n",
    "cap = cv2.VideoCapture(r'video\\red-green.mp4')\n",
    "while True:\n",
    "    ret, frame = cap.read()\n",
    "    result = process_frame_simply(frame, color_range, lowest)\n",
    "    if not result:\n",
    "        # move(0, 100, 0)\n",
    "        print('小车启动')\n",
    "        cap.release()\n",
    "        break"
   ]
  },
  {
   "cell_type": "markdown",
   "id": "abc9017c835cc90b",
   "metadata": {},
   "source": [
    "### 方案二"
   ]
  },
  {
   "cell_type": "code",
   "execution_count": null,
   "id": "71e989aa481f62b7",
   "metadata": {},
   "outputs": [],
   "source": [
    "# 聚焦检测\n",
    "cap = cv2.VideoCapture(r'video\\red-green.mp4')\n",
    "read_or_not = False\n",
    "while True:\n",
    "    ret, frame = cap.read()\n",
    "    hsv = cv2.cvtColor(frame, cv2.COLOR_BGR2HSV)\n",
    "    if not read_or_not:\n",
    "        result = process_frame_special(hsv, color_range, lowest)\n",
    "        read_or_not = True\n",
    "        print(result)\n",
    "    if hsv[result[1], result[0],2] < 70:\n",
    "        # move(0, 100, 0)\n",
    "        print('小车启动')\n",
    "        cap.release()\n",
    "        break"
   ]
  },
  {
   "cell_type": "code",
   "id": "c3200513351d70d3",
   "metadata": {
    "jupyter": {
     "is_executing": true
    }
   },
   "source": "%run remote_control/car_remote_control.py",
   "outputs": [],
   "execution_count": null
  },
  {
   "cell_type": "code",
   "execution_count": null,
   "id": "bf4cca96423973d4",
   "metadata": {},
   "outputs": [],
   "source": []
  }
 ],
 "metadata": {
  "kernelspec": {
   "display_name": "Python 3 (ipykernel)",
   "language": "python",
   "name": "python3"
  },
  "language_info": {
   "codemirror_mode": {
    "name": "ipython",
    "version": 3
   },
   "file_extension": ".py",
   "mimetype": "text/x-python",
   "name": "python",
   "nbconvert_exporter": "python",
   "pygments_lexer": "ipython3",
   "version": "3.12.9"
  }
 },
 "nbformat": 4,
 "nbformat_minor": 5
}
