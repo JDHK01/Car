{
 "cells": [
  {
   "cell_type": "code",
   "id": "593c0e6fe1734222",
   "metadata": {
    "ExecuteTime": {
     "end_time": "2025-05-21T07:12:01.724116Z",
     "start_time": "2025-05-21T07:12:01.719157Z"
    }
   },
   "source": [
    "import cv2"
   ],
   "outputs": [],
   "execution_count": 2
  },
  {
   "cell_type": "markdown",
   "id": "81d310f0f63844e6",
   "metadata": {},
   "source": [
    "# 播放视频：\n",
    "- 退   出：按下 q 退出\n",
    "\n",
    "- 保存图片：按下 s 保存\n",
    "\n",
    "- 保存视频：按下 r 开始录制，按下 e 停止录制\n"
   ]
  },
  {
   "cell_type": "code",
   "id": "2edc29e055a0482d",
   "metadata": {
    "ExecuteTime": {
     "end_time": "2025-05-21T07:12:13.489011Z",
     "start_time": "2025-05-21T07:12:11.218084Z"
    }
   },
   "source": [
    "import cv2\n",
    "\n",
    "cap = cv2.VideoCapture(0)\n",
    "# 区分不同图片，为图片,视频编号import cv2\n",
    "if not cap.isOpened():\n",
    "    print(\"无法打开摄像头\")\n",
    "    exit()\n",
    "out = None\n",
    "recording = False\n",
    "# 区分不同图片，为图片,视频编号；i为图片编号，j为视频编号\n",
    "i = 0;j = 0\n",
    "# -------------------视频参数定义-------------------------\n",
    "# 选择视频的编码格式 fourcc:four char code\n",
    "# XVID：.avi，压缩率中等\n",
    "# MJPG：.avi，压缩率较低，但画质比较高\n",
    "# H264：.mp4，这是一种压缩率高，应用广泛\n",
    "fourcc = cv2.VideoWriter_fourcc(*'XVID')\n",
    "# *是一个多功能运算符，这里用于拆分字符串XVID为X，V，I，D\n",
    "frame_rate = 30.0\n",
    "\n",
    "try:\n",
    "    while True:\n",
    "        ret, frame = cap.read()\n",
    "        if not ret:\n",
    "            print(\"警告：无法从摄像头读取帧\")\n",
    "            break\n",
    "\n",
    "        cv2.imshow('monitor', frame)\n",
    "        key = cv2.waitKey(1) & 0xFF\n",
    "\n",
    "        if key == ord('s'):\n",
    "            cv2.imwrite(f'picture/traffic{i}.png', frame)\n",
    "\n",
    "            print(f'保存图片 traffic{i}.png')\n",
    "            i+=1\n",
    "\n",
    "        elif key == ord('r'):\n",
    "            if not recording:\n",
    "                height, width = frame.shape[:2]\n",
    "                out = cv2.VideoWriter(f'video/traffic{j}.avi', fourcc, frame_rate, (width, height))\n",
    "                recording = True\n",
    "                print(f\"开始录制视频 traffic{j}.avi\")\n",
    "            else:\n",
    "                print(\"已经在录制中...\")\n",
    "\n",
    "        elif key == ord('e'):\n",
    "            if recording:\n",
    "                recording = False\n",
    "                out.release()\n",
    "                print(f\"停止录制 traffic{j}.avi\");j+=1\n",
    "            else:\n",
    "                print(\"当前没有在录制\")\n",
    "\n",
    "        elif key == ord('q'):\n",
    "            print(\"退出程序\")\n",
    "            break\n",
    "\n",
    "        if recording and out:\n",
    "            out.write(frame)\n",
    "\n",
    "except Exception as e:\n",
    "    print(f\"发生异常：{e}\")\n",
    "\n",
    "finally:\n",
    "    cap.release()\n",
    "    if out:\n",
    "        out.release()\n",
    "    # cv2.destroyAllWindows()\n",
    "# i为图片编号，j为视频编号\n",
    "i = 0;j = 0\n",
    "# -------------------视频参数定义-------------------------\n",
    "# 选择视频的编码格式 fourcc:four char code\n",
    "# XVID：.avi，压缩率中等\n",
    "# MJPG：.avi，压缩率较低，但画质比较高\n",
    "# H264：.mp4，这是一种压缩率高，应用广泛\n",
    "fourcc = cv2.VideoWriter_fourcc(*'XVID')\n",
    "# *是一个多功能运算符，这里用于拆分字符串XVID为X，V，I，D\n",
    "frame_rate = 30.0\n",
    "\n",
    "try:\n",
    "    while True:\n",
    "        ret, frame = cap.read()\n",
    "        if not ret:\n",
    "            print(\"警告：无法从摄像头读取帧\")\n",
    "            break\n",
    "\n",
    "        cv2.imshow('monitor', frame)\n",
    "        key = cv2.waitKey(1) & 0xFF\n",
    "\n",
    "        if key == ord('s'):\n",
    "            cv2.imwrite(f'picture/traffic{i}.png', frame)\n",
    "\n",
    "            print(f'保存图片 traffic{i}.png')\n",
    "            i+=1\n",
    "\n",
    "        elif key == ord('r'):\n",
    "            if not recording:\n",
    "                height, width = frame.shape[:2]\n",
    "                out = cv2.VideoWriter(f'video/traffic{j}.avi', fourcc, frame_rate, (width, height))\n",
    "                recording = True\n",
    "                print(f\"开始录制视频 traffic{j}.avi\")\n",
    "            else:\n",
    "                print(\"已经在录制中...\")\n",
    "\n",
    "        elif key == ord('e'):\n",
    "            if recording:\n",
    "                recording = False\n",
    "                out.release()\n",
    "                print(f\"停止录制 traffic{j}.avi\");j+=1\n",
    "            else:\n",
    "                print(\"当前没有在录制\")\n",
    "\n",
    "        elif key == ord('q'):\n",
    "            print(\"退出程序\")\n",
    "            break\n",
    "\n",
    "        if recording and out:\n",
    "            out.write(frame)\n",
    "\n",
    "except Exception as e:\n",
    "    print(f\"发生异常：{e}\")\n",
    "\n",
    "finally:\n",
    "    cap.release()\n",
    "    if out:\n",
    "        out.release()\n",
    "    cv2.destroyAllWindows()\n"
   ],
   "outputs": [
    {
     "name": "stdout",
     "output_type": "stream",
     "text": [
      "退出程序\n",
      "警告：无法从摄像头读取帧\n"
     ]
    }
   ],
   "execution_count": 1
  },
  {
   "cell_type": "code",
   "execution_count": null,
   "id": "b2bc6fd096ff71dc",
   "metadata": {},
   "outputs": [],
   "source": []
  },
  {
   "cell_type": "code",
   "execution_count": null,
   "id": "822c93d6c5a99c2d",
   "metadata": {},
   "outputs": [],
   "source": []
  }
 ],
 "metadata": {
  "kernelspec": {
   "display_name": "Python 3 (ipykernel)",
   "language": "python",
   "name": "python3"
  },
  "language_info": {
   "codemirror_mode": {
    "name": "ipython",
    "version": 3
   },
   "file_extension": ".py",
   "mimetype": "text/x-python",
   "name": "python",
   "nbconvert_exporter": "python",
   "pygments_lexer": "ipython3",
   "version": "3.12.9"
  }
 },
 "nbformat": 4,
 "nbformat_minor": 5
}
