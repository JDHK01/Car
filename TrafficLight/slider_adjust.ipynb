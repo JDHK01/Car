{
 "cells": [
  {
   "metadata": {},
   "cell_type": "markdown",
   "source": "### 库导入",
   "id": "4f9f74a2dc86545"
  },
  {
   "metadata": {
    "ExecuteTime": {
     "end_time": "2025-05-21T08:33:01.972430Z",
     "start_time": "2025-05-21T08:33:01.969650Z"
    }
   },
   "cell_type": "code",
   "source": [
    "import cv2\n",
    "import numpy as np  # 修正：numpy np\n",
    "import ipywidgets as widgets\n",
    "from IPython.display import display, clear_output\n",
    "import threading\n",
    "import time\n",
    "\n",
    "# from scripts.regsetup import description"
   ],
   "id": "15230b5e35292cd8",
   "outputs": [],
   "execution_count": 3
  },
  {
   "metadata": {
    "ExecuteTime": {
     "end_time": "2025-05-21T08:33:04.183111Z",
     "start_time": "2025-05-21T08:33:03.896949Z"
    }
   },
   "cell_type": "code",
   "source": "from lib.imgproc import to_jpeg_bytes, process_frame",
   "id": "fec04ca45a46612f",
   "outputs": [],
   "execution_count": 4
  },
  {
   "metadata": {},
   "cell_type": "markdown",
   "source": "### 自定义函数",
   "id": "d4edacc1f4ef4978"
  },
  {
   "metadata": {
    "ExecuteTime": {
     "end_time": "2025-05-21T08:33:05.511016Z",
     "start_time": "2025-05-21T08:33:05.506099Z"
    }
   },
   "cell_type": "code",
   "source": [
    "# 关闭按钮逻辑\n",
    "def close_video(b):\n",
    "    global playing, locked_frame\n",
    "    playing = False\n",
    "    locked_frame = None\n",
    "    toggle_button.value = False\n",
    "    toggle_button.disabled = True\n",
    "    close_button.disabled = True\n",
    "    slider_red1_h.disabled = True\n",
    "    slider_red2_h.disabled = True\n",
    "    slider_red1_s.disabled = True\n",
    "    slider_red2_s.disabled = True\n",
    "    slider_red1_v.disabled = True\n",
    "    slider_red2_v.disabled = True\n",
    "    cap.release()\n",
    "    # 清除画面\n",
    "    img_processed.value = b''\n",
    "    img_mask_origin.value = b''\n",
    "    img_mask_eroded.value = b''\n",
    "    img_mask_dilated.value = b''\n"
   ],
   "id": "faf5b16a187529da",
   "outputs": [],
   "execution_count": 5
  },
  {
   "metadata": {
    "ExecuteTime": {
     "end_time": "2025-05-21T08:33:09.297056Z",
     "start_time": "2025-05-21T08:33:09.293033Z"
    }
   },
   "cell_type": "code",
   "source": [
    "# 播放/暂停按钮\n",
    "# 引入全局变量 -> 获取change最新的值并赋值 -> 更新图标 + 继续播放/暂停\n",
    "def toggle_play(change):\n",
    "    global playing\n",
    "    playing = change['new']# 获取change最新的值\n",
    "    toggle_button.icon = 'pause' if playing else 'play'\n",
    "    if playing:\n",
    "        threading.Thread(target=play_video, daemon=True).start()"
   ],
   "id": "311f7f6437e59b6",
   "outputs": [],
   "execution_count": 6
  },
  {
   "metadata": {
    "ExecuteTime": {
     "end_time": "2025-05-21T08:33:09.840698Z",
     "start_time": "2025-05-21T08:33:09.832828Z"
    }
   },
   "cell_type": "code",
   "source": [
    "# playing为1，连续循环播放图片\n",
    "def play_video():\n",
    "    global playing, locked_frame\n",
    "    while playing:\n",
    "        with frame_lock:\n",
    "            ret, frame = cap.read()\n",
    "            if not ret:\n",
    "                cap.set(cv2.CAP_PROP_POS_FRAMES, 0)# 播放完毕，从头开始重新播放\n",
    "                continue\n",
    "            temp = [\n",
    "                [slider_red1_h.value[0], slider_red1_s.value[0], slider_red1_v.value[0]],  # 修正：red1_v\n",
    "                [slider_red1_h.value[1], slider_red1_s.value[1], slider_red1_v.value[1]],  # 修正：red1_v\n",
    "                [slider_red2_h.value[0], slider_red2_s.value[0], slider_red2_v.value[0]],\n",
    "                [slider_red2_h.value[1], slider_red2_s.value[1], slider_red2_v.value[1]],\n",
    "            ]\n",
    "            draw ,mask ,mask8,mask9= process_frame(frame,temp,lowest=slider_lowest.value)\n",
    "            img_processed.value = to_jpeg_bytes(draw, is_mask=False)\n",
    "            img_mask_origin.value = to_jpeg_bytes(mask, is_mask=True)\n",
    "            img_mask_eroded.value = to_jpeg_bytes(mask8, is_mask=True)\n",
    "            img_mask_dilated.value = to_jpeg_bytes(mask9, is_mask=True)\n",
    "            locked_frame = frame.copy()  # 每次播放时更新锁定帧\n",
    "        #----------------控制播放速度------------------------\n",
    "        time.sleep(1 / max(1, frame_rate.value))  # 修正：防止除零"
   ],
   "id": "d41c5e95c7d3771",
   "outputs": [],
   "execution_count": 7
  },
  {
   "metadata": {
    "ExecuteTime": {
     "end_time": "2025-05-21T08:33:12.244878Z",
     "start_time": "2025-05-21T08:33:12.233671Z"
    }
   },
   "cell_type": "code",
   "source": [
    "# 滑块变化时更新当前帧\n",
    "def refresh_on_change(change=None):\n",
    "    global locked_frame\n",
    "    with frame_lock:\n",
    "        if playing:\n",
    "            # 回退一帧，因为你用play_video函数读取了一帧，cv2.CAP_PROP_POS_FRAMES++,所以这里需要回退一下\n",
    "            current = cap.get(cv2.CAP_PROP_POS_FRAMES)\n",
    "            cap.set(cv2.CAP_PROP_POS_FRAMES, max(0, current - 1))\n",
    "            ret, frame = cap.read()\n",
    "            if ret:\n",
    "                locked_frame = frame.copy()\n",
    "                temp = [\n",
    "                    [slider_red1_h.value[0], slider_red1_s.value[0], slider_red1_v.value[0]],  # 修正：red1_v\n",
    "                    [slider_red1_h.value[1], slider_red1_s.value[1], slider_red1_v.value[1]],  # 修正：red1_v\n",
    "                    [slider_red2_h.value[0], slider_red2_s.value[0], slider_red2_v.value[0]],\n",
    "                    [slider_red2_h.value[1], slider_red2_s.value[1], slider_red2_v.value[1]],\n",
    "                ]\n",
    "                draw ,mask ,mask8, mask9= process_frame(frame,temp,lowest=slider_lowest.value)\n",
    "                img_processed.value = to_jpeg_bytes(draw, is_mask=False)\n",
    "                img_mask_origin.value = to_jpeg_bytes(mask, is_mask=True)\n",
    "                img_mask_eroded.value = to_jpeg_bytes(mask8, is_mask=True)\n",
    "                img_mask_dilated.value = to_jpeg_bytes(mask9, is_mask=True)\n",
    "        else:\n",
    "            # 暂停时只对locked_frame做处理，不再读取新帧\n",
    "            frame = locked_frame\n",
    "            if frame is not None:\n",
    "                temp = [\n",
    "                    [slider_red1_h.value[0], slider_red1_s.value[0], slider_red1_v.value[0]],  # 修正：red1_v\n",
    "                    [slider_red1_h.value[1], slider_red1_s.value[1], slider_red1_v.value[1]],  # 修正：red1_v\n",
    "                    [slider_red2_h.value[0], slider_red2_s.value[0], slider_red2_v.value[0]],\n",
    "                    [slider_red2_h.value[1], slider_red2_s.value[1], slider_red2_v.value[1]],\n",
    "                ]\n",
    "                draw ,mask ,mask8, mask9= process_frame(frame,temp,lowest=slider_lowest.value)\n",
    "                img_processed.value = to_jpeg_bytes(draw, is_mask=False)\n",
    "                img_mask_origin.value = to_jpeg_bytes(mask, is_mask=True)\n",
    "                img_mask_eroded.value = to_jpeg_bytes(mask8, is_mask=True)\n",
    "                img_mask_dilated.value = to_jpeg_bytes(mask9, is_mask=True)"
   ],
   "id": "991a54166dd6015",
   "outputs": [],
   "execution_count": 8
  },
  {
   "metadata": {},
   "cell_type": "markdown",
   "source": "### 全局变量定义",
   "id": "b6b29b8fd8511da"
  },
  {
   "metadata": {
    "ExecuteTime": {
     "end_time": "2025-05-21T08:33:15.579353Z",
     "start_time": "2025-05-21T08:33:15.576449Z"
    }
   },
   "cell_type": "code",
   "source": [
    "playing = False\n",
    "locked_frame = None\n",
    "frame_lock = threading.Lock()"
   ],
   "id": "dddd064810b92339",
   "outputs": [],
   "execution_count": 9
  },
  {
   "metadata": {},
   "cell_type": "markdown",
   "source": "### 读取视频",
   "id": "e17d31dbf08a927f"
  },
  {
   "metadata": {
    "ExecuteTime": {
     "end_time": "2025-05-21T08:33:17.393782Z",
     "start_time": "2025-05-21T08:33:17.267702Z"
    }
   },
   "cell_type": "code",
   "source": [
    "cap = cv2.VideoCapture(0)#\"video/red-green.mp4\")\n",
    "if not cap.isOpened():\n",
    "    raise IOError(\"无法打开视频文件\")"
   ],
   "id": "972df0d8939d157f",
   "outputs": [],
   "execution_count": 10
  },
  {
   "metadata": {},
   "cell_type": "markdown",
   "source": "### 控件定义",
   "id": "91e985ea71fdd638"
  },
  {
   "metadata": {
    "ExecuteTime": {
     "end_time": "2025-05-21T08:33:19.580137Z",
     "start_time": "2025-05-21T08:33:19.560503Z"
    }
   },
   "cell_type": "code",
   "source": [
    "# -------------------------------图像输出--------------------------\n",
    "# 掩膜图像 + 处理后的图像\n",
    "# 格式为 jpg , 大小为640*480\n",
    "img_processed = widgets.Image(format='jpg', width=640, height=480)\n",
    "img_mask_origin = widgets.Image(format='jpg', width=640, height=480)\n",
    "img_mask_eroded = widgets.Image(format='jpg', width=640, height=480)\n",
    "img_mask_dilated = widgets.Image(format='jpg', width=640, height=480)\n",
    "# -------------------------------控制按钮-------------------------\n",
    "# 切换按钮 + 停止按钮\n",
    "toggle_button = widgets.ToggleButton(description=\"Play/Pause\", value=False, icon='play')\n",
    "close_button = widgets.Button(description=\"关闭\", icon='times', button_style='danger')\n",
    "toggle_button.observe(toggle_play, names='value')\n",
    "close_button.on_click(close_video)\n",
    "# -------------------------------滑块控件------------------------\n",
    "slider_lowest = widgets.IntSlider(value=30, min=0, max=100, description='lowest:')\n",
    "frame_rate = widgets.IntSlider(value=30, min=1, max=200, description='frame rate:')  # 修正：min=1防止除零\n",
    "slider_red1_h = widgets.IntRangeSlider(value=[0, 15], min=0, max=180, description='red1 H:')\n",
    "slider_red1_s = widgets.IntRangeSlider(value=[80, 255], min=0, max=255, description='red1 S:')\n",
    "slider_red1_v = widgets.IntRangeSlider(value=[80, 255], min=0, max=255, description='red1 V:')\n",
    "slider_red2_h = widgets.IntRangeSlider(value=[165, 180], min=0, max=180, description='red2 H:')\n",
    "slider_red2_s = widgets.IntRangeSlider(value=[80, 255], min=0, max=255, description='red2 S:')\n",
    "slider_red2_v = widgets.IntRangeSlider(value=[80, 255], min=0, max=255, description='red2 V:')"
   ],
   "id": "3e32c114c4a84223",
   "outputs": [],
   "execution_count": 11
  },
  {
   "metadata": {},
   "cell_type": "markdown",
   "source": [
    "\n",
    "### 布局"
   ],
   "id": "a8a90a644cae343e"
  },
  {
   "metadata": {
    "ExecuteTime": {
     "end_time": "2025-05-21T08:33:22.754985Z",
     "start_time": "2025-05-21T08:33:22.745414Z"
    }
   },
   "cell_type": "code",
   "source": [
    "group0 = widgets.HBox([toggle_button, close_button])\n",
    "group1 = widgets.HBox([slider_red1_h, slider_red2_h])\n",
    "group2 = widgets.HBox([slider_red1_s, slider_red2_s])\n",
    "group3 = widgets.HBox([slider_red1_v, slider_red2_v])\n",
    "controls = widgets.VBox([group0, frame_rate,slider_lowest,group1, group2, group3])\n",
    "image0 = widgets.HBox([img_processed, img_mask_origin])\n",
    "image1 = widgets.HBox([img_mask_eroded, img_mask_dilated])"
   ],
   "id": "6b1132a58be3b0cb",
   "outputs": [],
   "execution_count": 12
  },
  {
   "metadata": {},
   "cell_type": "markdown",
   "source": "### 绑定回调函数",
   "id": "62f30bebdada7fb4"
  },
  {
   "metadata": {
    "ExecuteTime": {
     "end_time": "2025-05-21T08:33:24.316886Z",
     "start_time": "2025-05-21T08:33:24.313633Z"
    }
   },
   "cell_type": "code",
   "source": [
    "for s in [slider_lowest, slider_red1_h, slider_red2_h, slider_red1_s ,slider_red2_s , slider_red1_v,slider_red2_v]:\n",
    "    # 当s.value变化时，调用refresh_on_change函数\n",
    "    s.observe(refresh_on_change, names='value')"
   ],
   "id": "a92e043bffff22be",
   "outputs": [],
   "execution_count": 13
  },
  {
   "metadata": {
    "ExecuteTime": {
     "end_time": "2025-05-21T08:33:26.727712Z",
     "start_time": "2025-05-21T08:33:26.725491Z"
    }
   },
   "cell_type": "code",
   "source": "",
   "id": "f4e117c44e282515",
   "outputs": [],
   "execution_count": null
  },
  {
   "metadata": {
    "ExecuteTime": {
     "end_time": "2025-05-21T08:33:27.140995Z",
     "start_time": "2025-05-21T08:33:27.130727Z"
    }
   },
   "cell_type": "code",
   "source": [
    "display(controls, image0, image1)\n",
    "refresh_on_change()"
   ],
   "id": "1735020b46243e4",
   "outputs": [
    {
     "data": {
      "text/plain": [
       "VBox(children=(HBox(children=(ToggleButton(value=False, description='Play/Pause', icon='play'), Button(button_…"
      ],
      "application/vnd.jupyter.widget-view+json": {
       "version_major": 2,
       "version_minor": 0,
       "model_id": "9584a3f599214901a4d44e4679d1b0dc"
      }
     },
     "metadata": {},
     "output_type": "display_data"
    },
    {
     "data": {
      "text/plain": [
       "HBox(children=(Image(value=b'', format='jpg', height='480', width='640'), Image(value=b'', format='jpg', heigh…"
      ],
      "application/vnd.jupyter.widget-view+json": {
       "version_major": 2,
       "version_minor": 0,
       "model_id": "762060cfe6be435faa241cb79be28d12"
      }
     },
     "metadata": {},
     "output_type": "display_data"
    },
    {
     "data": {
      "text/plain": [
       "HBox(children=(Image(value=b'', format='jpg', height='480', width='640'), Image(value=b'', format='jpg', heigh…"
      ],
      "application/vnd.jupyter.widget-view+json": {
       "version_major": 2,
       "version_minor": 0,
       "model_id": "a8b6e39a529446e2b7fb865b6f379932"
      }
     },
     "metadata": {},
     "output_type": "display_data"
    }
   ],
   "execution_count": 14
  },
  {
   "metadata": {
    "ExecuteTime": {
     "end_time": "2025-05-07T05:32:52.280787Z",
     "start_time": "2025-05-07T05:32:52.247581Z"
    }
   },
   "cell_type": "code",
   "source": "cap.release()\n",
   "id": "be02d5af91c79589",
   "outputs": [],
   "execution_count": 30
  },
  {
   "metadata": {
    "ExecuteTime": {
     "end_time": "2025-05-07T05:32:52.451441Z",
     "start_time": "2025-05-07T05:32:52.441767Z"
    }
   },
   "cell_type": "code",
   "source": "",
   "id": "6cf264311218b928",
   "outputs": [],
   "execution_count": null
  },
  {
   "metadata": {},
   "cell_type": "code",
   "outputs": [],
   "execution_count": null,
   "source": "",
   "id": "46fb3290206dfb94"
  },
  {
   "metadata": {},
   "cell_type": "code",
   "outputs": [],
   "execution_count": null,
   "source": "",
   "id": "a1e782b88a76991"
  },
  {
   "metadata": {},
   "cell_type": "code",
   "outputs": [],
   "execution_count": null,
   "source": "\n",
   "id": "c70aff8a38df5f9"
  }
 ],
 "metadata": {
  "kernelspec": {
   "name": "python3",
   "language": "python",
   "display_name": "Python 3 (ipykernel)"
  }
 },
 "nbformat": 5,
 "nbformat_minor": 9
}
